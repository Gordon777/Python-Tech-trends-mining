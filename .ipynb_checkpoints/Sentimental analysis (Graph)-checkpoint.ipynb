{
 "cells": [
  {
   "cell_type": "code",
   "execution_count": 1,
   "metadata": {},
   "outputs": [],
   "source": [
    "import sys\n",
    "import csv\n",
    "import tweepy\n",
    "import matplotlib.pyplot as plt\n",
    "\n",
    "from collections import Counter\n",
    "from aylienapiclient import textapi\n",
    "from past.builtins import raw_input"
   ]
  },
  {
   "cell_type": "code",
   "execution_count": 2,
   "metadata": {},
   "outputs": [],
   "source": [
    "if sys.version_info[0] < 3:\n",
    "   input = raw_input"
   ]
  },
  {
   "cell_type": "code",
   "execution_count": 3,
   "metadata": {},
   "outputs": [],
   "source": [
    "## Twitter credentials\n",
    "consumer_key = 'fpPcMVecJjQYRCt3ANhqycpSq'\n",
    "consumer_secret = 'sCTph4LVjxslv0BzCXpEKTUwxwn1DhZEiqt4nTOYcNJS2cNJxK'\n",
    "access_token = '845560073489301504-0LEE1FeHDQ97aUA6SHJsIERhnQsa3LG'\n",
    "access_token_secret = '3mzg2OMUeixgj5791roB1Sq8FxkUGFOEUCAG9F8cDAe7w'\n",
    "\n",
    "## AYLIEN credentials\n",
    "application_id = \" 75113c56\"\n",
    "application_key = \"c603e2ca0146e92443ff4e02b7a248d1\""
   ]
  },
  {
   "cell_type": "code",
   "execution_count": 4,
   "metadata": {},
   "outputs": [],
   "source": [
    "## set up an instance of Tweepy\n",
    "auth = tweepy.OAuthHandler(consumer_key, consumer_secret)\n",
    "auth.set_access_token(access_token, access_token_secret)\n",
    "api = tweepy.API(auth)"
   ]
  },
  {
   "cell_type": "code",
   "execution_count": 5,
   "metadata": {},
   "outputs": [],
   "source": [
    "## set up an instance of the AYLIEN Text API\n",
    "client = textapi.Client(application_id, application_key)"
   ]
  },
  {
   "cell_type": "code",
   "execution_count": 6,
   "metadata": {},
   "outputs": [
    {
     "name": "stdout",
     "output_type": "stream",
     "text": [
      "What subject do you want to analyze for this example? \n",
      "Regtech\n",
      "How many Tweets do you want to analyze? \n",
      "30\n",
      "--- Gathered Tweets \n",
      "\n",
      "--- Opened a CSV file to store the results of your sentiment analysis... \n",
      "\n",
      "Analyzed Tweet 1\n",
      "Analyzed Tweet 2\n",
      "Analyzed Tweet 3\n",
      "Analyzed Tweet 4\n",
      "Analyzed Tweet 5\n",
      "Analyzed Tweet 6\n",
      "Analyzed Tweet 7\n",
      "Analyzed Tweet 8\n",
      "Analyzed Tweet 9\n",
      "Analyzed Tweet 10\n",
      "Analyzed Tweet 11\n",
      "Analyzed Tweet 12\n",
      "Analyzed Tweet 13\n",
      "Analyzed Tweet 14\n",
      "Analyzed Tweet 15\n",
      "Analyzed Tweet 16\n",
      "Analyzed Tweet 17\n",
      "Analyzed Tweet 18\n",
      "Analyzed Tweet 19\n",
      "Analyzed Tweet 20\n",
      "Analyzed Tweet 21\n",
      "Analyzed Tweet 22\n",
      "Analyzed Tweet 23\n",
      "Analyzed Tweet 24\n",
      "Analyzed Tweet 25\n",
      "Analyzed Tweet 26\n",
      "Analyzed Tweet 27\n",
      "Analyzed Tweet 28\n",
      "Analyzed Tweet 29\n"
     ]
    },
    {
     "data": {
      "image/png": "[encoded data removed]",
      "text/plain": [
       "<Figure size 432x288 with 1 Axes>"
      ]
     },
     "metadata": {},
     "output_type": "display_data"
    }
   ],
   "source": [
    "## search Twitter for something that interests you\n",
    "query = input(\"What subject do you want to analyze for this example? \\n\")\n",
    "number = input(\"How many Tweets do you want to analyze? \\n\")\n",
    "\n",
    "results = api.search(\n",
    "   lang=\"en\",\n",
    "   q=query + \" -rt\",\n",
    "   count=number,\n",
    "   result_type=\"recent\"\n",
    "#     until= \"2019-06-10\"\n",
    ")\n",
    "\n",
    "print(\"--- Gathered Tweets \\n\")\n",
    "\n",
    "## open a csv file to store the Tweets and their sentiment \n",
    "file_name = 'Sentiment_Analysis_of_{}_Tweets_About_{}.csv'.format(number, query)\n",
    "\n",
    "with open(file_name, 'w', newline='') as csvfile:\n",
    "   csv_writer = csv.DictWriter(\n",
    "       f=csvfile,\n",
    "       fieldnames=[\"Tweet\", \"Sentiment\"]\n",
    "   )\n",
    "   csv_writer.writeheader()\n",
    "\n",
    "   print(\"--- Opened a CSV file to store the results of your sentiment analysis... \\n\")\n",
    "\n",
    "## tidy up the Tweets and send each to the AYLIEN Text API\n",
    "   for c, result in enumerate(results, start=1):\n",
    "       tweet = result.text\n",
    "       tidy_tweet = tweet.strip().encode('ascii', 'ignore')\n",
    "\n",
    "       if len(tweet) == 0:\n",
    "           print('Empty Tweet')\n",
    "           continue\n",
    "\n",
    "       response = client.Sentiment({'text': tidy_tweet})\n",
    "       csv_writer.writerow({\n",
    "           'Tweet': response['text'],\n",
    "           'Sentiment': response['polarity']\n",
    "       })\n",
    "\n",
    "       print(\"Analyzed Tweet {}\".format(c))\n",
    "\n",
    "## count the data in the Sentiment column of the CSV file \n",
    "with open(file_name, 'r') as data:\n",
    "   counter = Counter()\n",
    "   for row in csv.DictReader(data):\n",
    "       counter[row['Sentiment']] += 1\n",
    "\n",
    "   positive = counter['positive']\n",
    "   negative = counter['negative']\n",
    "   neutral = counter['neutral']\n",
    "\n",
    "## declare the variables for the pie chart, using the Counter variables for \"sizes\"\n",
    "colors = ['green', 'red', 'grey']\n",
    "sizes = [positive, negative, neutral]\n",
    "labels = 'Positive', 'Negative', 'Neutral'\n",
    "\n",
    "## use matplotlib to plot the chart\n",
    "plt.pie(\n",
    "   x=sizes,\n",
    "   shadow=True,\n",
    "   colors=colors,\n",
    "   labels=labels,\n",
    "   startangle=90\n",
    ")\n",
    "\n",
    "plt.title(\"Sentiment of {} Tweets about {}\".format(number, query))\n",
    "plt.show()"
   ]
  },
  {
   "cell_type": "code",
   "execution_count": null,
   "metadata": {},
   "outputs": [],
   "source": []
  }
 ],
 "metadata": {
  "kernelspec": {
   "display_name": "Python 3",
   "language": "python",
   "name": "python3"
  },
  "language_info": {
   "codemirror_mode": {
    "name": "ipython",
    "version": 3
   },
   "file_extension": ".py",
   "mimetype": "text/x-python",
   "name": "python",
   "nbconvert_exporter": "python",
   "pygments_lexer": "ipython3",
   "version": "3.7.3"
  }
 },
 "nbformat": 4,
 "nbformat_minor": 2
}
