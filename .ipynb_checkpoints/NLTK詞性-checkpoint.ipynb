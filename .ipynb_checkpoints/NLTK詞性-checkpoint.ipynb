{
 "cells": [
  {
   "cell_type": "code",
   "execution_count": 1,
   "metadata": {},
   "outputs": [],
   "source": [
    "#coding=utf-8\n",
    "from nltk.tokenize import word_tokenize\n",
    "import string\n",
    "from nltk.corpus import stopwords\n",
    "import nltk"
   ]
  },
  {
   "cell_type": "code",
   "execution_count": 3,
   "metadata": {},
   "outputs": [],
   "source": [
    "# split into words\n",
    "tokens = word_tokenize(text)\n",
    "# convert to lower case\n",
    "tokens = [w.lower() for w in tokens]\n",
    "# remove punctuation from each word\n",
    "table = str.maketrans('', '', string.punctuation)\n",
    "stripped = [w.translate(table) for w in tokens]\n",
    "# remove remaining tokens that are not alphabetic\n",
    "words = [word for word in stripped if word.isalpha()]"
   ]
  },
  {
   "cell_type": "code",
   "execution_count": 4,
   "metadata": {},
   "outputs": [],
   "source": [
    "# filter out stop words\n",
    "stop_words = set(stopwords.words('english'))\n",
    "words = [w for w in words if not w in stop_words]\n",
    "pos_tags = nltk.tag.pos_tag(words) #NLTK詞性標註"
   ]
  },
  {
   "cell_type": "code",
   "execution_count": 5,
   "metadata": {},
   "outputs": [
    {
     "name": "stdout",
     "output_type": "stream",
     "text": [
      "source NN\n",
      "truth NN\n",
      "information NN\n",
      "consequence NN\n",
      "regulation NN\n",
      "reform NN\n",
      "cultures NNS\n",
      "firms NNS\n",
      "firms NNS\n",
      "comply NN\n",
      "waymark NN\n",
      "meet NN\n",
      "market NN\n",
      "range NN\n",
      "investment NN\n",
      "managers NNS\n",
      "banks NNS\n",
      "solution NN\n",
      "fair NN\n",
      "pricing NN\n",
      "provide NN\n",
      "sits NNS\n",
      "systems NNS\n",
      "millions NNS\n",
      "pages NNS\n",
      "questions NNS\n",
      "information NN\n"
     ]
    }
   ],
   "source": [
    "for word,pos in pos_tags:\n",
    "    if (pos == 'NN' or pos == 'NNP' or pos == 'NNS' or pos == 'NNPS'): #只限制名詞\n",
    "        print (word,pos)"
   ]
  },
  {
   "cell_type": "code",
   "execution_count": 6,
   "metadata": {},
   "outputs": [
    {
     "name": "stdout",
     "output_type": "stream",
     "text": [
      "source,NN\n",
      "truth,NN\n",
      "information,NN\n",
      "consequence,NN\n",
      "regulation,NN\n",
      "reform,NN\n",
      "cultures,NNS\n",
      "firms,NNS\n",
      "firms,NNS\n",
      "comply,NN\n",
      "waymark,NN\n",
      "meet,NN\n",
      "market,NN\n",
      "range,NN\n",
      "investment,NN\n",
      "managers,NNS\n",
      "banks,NNS\n",
      "solution,NN\n",
      "fair,NN\n",
      "pricing,NN\n",
      "provide,NN\n",
      "sits,NNS\n",
      "systems,NNS\n",
      "millions,NNS\n",
      "pages,NNS\n",
      "questions,NNS\n",
      "information,NN\n"
     ]
    }
   ],
   "source": [
    "# 写入到csv\n",
    "for word,pos in pos_tags:\n",
    "    if (pos == 'NN' or pos == 'NNP' or pos == 'NNS' or pos == 'NNPS'):  # 只限制名詞\n",
    "        print('%s,%s' %( word, pos))\n",
    "        output.write('%s,%s\\n' % (\n",
    "            word, pos))"
   ]
  },
  {
   "cell_type": "code",
   "execution_count": 7,
   "metadata": {},
   "outputs": [],
   "source": [
    "output = open(r'C:\\Users\\IDEA3C\\Desktop\\作業\\2018-100.csv', 'a') #輸出格式\n",
    "output.write('詞語,詞性\\n') #輸出格式\n",
    "# load data\n",
    "text = open(r\"C:\\Users\\IDEA3C\\Dropbox\\Paper\\論文\\論文正式版\\資料\\2018Regtech100\\2018Regtech100公司資料\\編碼資料\\2018-100.txt\", \"r\", encoding=\"utf-8-sig\").read()  # 导入需要计算的内容"
   ]
  },
  {
   "cell_type": "code",
   "execution_count": null,
   "metadata": {},
   "outputs": [],
   "source": []
  }
 ],
 "metadata": {
  "kernelspec": {
   "display_name": "Python 3",
   "language": "python",
   "name": "python3"
  },
  "language_info": {
   "codemirror_mode": {
    "name": "ipython",
    "version": 3
   },
   "file_extension": ".py",
   "mimetype": "text/x-python",
   "name": "python",
   "nbconvert_exporter": "python",
   "pygments_lexer": "ipython3",
   "version": "3.7.3"
  }
 },
 "nbformat": 4,
 "nbformat_minor": 2
}
