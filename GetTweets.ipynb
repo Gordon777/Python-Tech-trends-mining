{
 "cells": [
  {
   "cell_type": "code",
   "execution_count": 1,
   "metadata": {},
   "outputs": [],
   "source": [
    "import pandas as pd\n",
    "import tweepy\n",
    "import jsonpickle\n",
    "\n",
    "# Consume:\n",
    "CONSUMER_KEY    = 'fpPcMVecJjQYRCt3ANhqycpSq'\n",
    "CONSUMER_SECRET = 'sCTph4LVjxslv0BzCXpEKTUwxwn1DhZEiqt4nTOYcNJS2cNJxK'\n",
    "\n",
    "# Access:\n",
    "ACCESS_TOKEN  = '845560073489301504-0LEE1FeHDQ97aUA6SHJsIERhnQsa3LG'\n",
    "ACCESS_SECRET = '3mzg2OMUeixgj5791roB1Sq8FxkUGFOEUCAG9F8cDAe7w'\n",
    "\n",
    "# Setup access API\n",
    "def connect_to_twitter_OAuth():\n",
    "    auth = tweepy.OAuthHandler(CONSUMER_KEY, CONSUMER_SECRET)\n",
    "    auth.set_access_token(ACCESS_TOKEN, ACCESS_SECRET)\n",
    "    \n",
    "    api = tweepy.API(auth)\n",
    "    return api\n",
    " \n",
    "# Create API object\n",
    "api = connect_to_twitter_OAuth()  "
   ]
  },
  {
   "cell_type": "code",
   "execution_count": 2,
   "metadata": {},
   "outputs": [],
   "source": [
    "def get_save_tweets(filepath, api, query, max_tweets=100, lang='en'):\n",
    "\n",
    "    tweetCount = 0\n",
    "\n",
    "    #Open file and save tweets\n",
    "    with open(filepath, 'w') as f:\n",
    "\n",
    "        # Send the query\n",
    "        for tweet in tweepy.Cursor(api.search,q=query,lang=lang).items(max_tweets):         \n",
    "\n",
    "            #Convert to JSON format\n",
    "            f.write(jsonpickle.encode(tweet._json, unpicklable=False) + '\\n')\n",
    "            tweetCount += 1\n",
    "\n",
    "        #Display how many tweets we have collected\n",
    "        print(\"Downloaded {0} tweets\".format(tweetCount))"
   ]
  },
  {
   "cell_type": "code",
   "execution_count": 3,
   "metadata": {},
   "outputs": [
    {
     "name": "stdout",
     "output_type": "stream",
     "text": [
      "Downloaded 100 tweets\n"
     ]
    }
   ],
   "source": [
    "query = 'machine learning'\n",
    "# Get those tweets\n",
    "get_save_tweets('tweets.json', api, query)"
   ]
  },
  {
   "cell_type": "code",
   "execution_count": 4,
   "metadata": {},
   "outputs": [],
   "source": [
    "def tweets_to_df(path):\n",
    "    \n",
    "    tweets = list(open('tweets.json', 'rt'))\n",
    "    \n",
    "    text = []\n",
    "    weekday = []\n",
    "    month = []\n",
    "    day = []\n",
    "    hour = []\n",
    "    hashtag = []\n",
    "    url = []\n",
    "    favorite = []\n",
    "    reply = []\n",
    "    retweet = []\n",
    "    follower = []\n",
    "    following = []\n",
    "    user = []\n",
    "    screen_name = []\n",
    "\n",
    "    for t in tweets:\n",
    "        t = jsonpickle.decode(t)\n",
    "        \n",
    "        # Text\n",
    "        text.append(t['text'])\n",
    "        \n",
    "        # Decompose date\n",
    "        date = t['created_at']\n",
    "        weekday.append(date.split(' ')[0])\n",
    "        month.append(date.split(' ')[1])\n",
    "        day.append(date.split(' ')[2])\n",
    "        \n",
    "        time = date.split(' ')[3].split(':')\n",
    "        hour.append(time[0]) \n",
    "        \n",
    "        # Has hashtag\n",
    "        if len(t['entities']['hashtags']) == 0:\n",
    "            hashtag.append(0)\n",
    "        else:\n",
    "            hashtag.append(1)\n",
    "            \n",
    "        # Has url\n",
    "        if len(t['entities']['urls']) == 0:\n",
    "            url.append(0)\n",
    "        else:\n",
    "            url.append(1)\n",
    "            \n",
    "        # Number of favs\n",
    "        favorite.append(t['favorite_count'])\n",
    "        \n",
    "        # Is reply?\n",
    "        if t['in_reply_to_status_id'] == None:\n",
    "            reply.append(0)\n",
    "        else:\n",
    "            reply.append(1)       \n",
    "        \n",
    "        # Retweets count\n",
    "        retweet.append(t['retweet_count'])\n",
    "        \n",
    "        # Followers number\n",
    "        follower.append(t['user']['followers_count'])\n",
    "        \n",
    "        # Following number\n",
    "        following.append(t['user']['friends_count'])\n",
    "        \n",
    "        # Add user\n",
    "        user.append(t['user']['name'])\n",
    "\n",
    "        # Add screen name\n",
    "        screen_name.append(t['user']['screen_name'])\n",
    "        \n",
    "    d = {'text': text,\n",
    "         'weekday': weekday,\n",
    "         'month' : month,\n",
    "         'day': day,\n",
    "         'hour' : hour,\n",
    "         'has_hashtag': hashtag,\n",
    "         'has_url': url,\n",
    "         'fav_count': favorite,\n",
    "         'is_reply': reply,\n",
    "         'retweet_count': retweet,\n",
    "         'followers': follower,\n",
    "         'following' : following,\n",
    "         'user': user,\n",
    "         'screen_name' : screen_name\n",
    "        }\n",
    "    \n",
    "    return pd.DataFrame(data = d)\n",
    "        \n",
    "tweets_df = tweets_to_df('tweets.json')"
   ]
  },
  {
   "cell_type": "code",
   "execution_count": null,
   "metadata": {},
   "outputs": [],
   "source": [
    "tweets_df.head()"
   ]
  },
  {
   "cell_type": "code",
   "execution_count": null,
   "metadata": {},
   "outputs": [],
   "source": [
    "tweets_df.to_csv('Result.csv')"
   ]
  },
  {
   "cell_type": "code",
   "execution_count": null,
   "metadata": {},
   "outputs": [],
   "source": []
  },
  {
   "cell_type": "code",
   "execution_count": null,
   "metadata": {},
   "outputs": [],
   "source": []
  }
 ],
 "metadata": {
  "kernelspec": {
   "display_name": "Python 3",
   "language": "python",
   "name": "python3"
  },
  "language_info": {
   "codemirror_mode": {
    "name": "ipython",
    "version": 3
   },
   "file_extension": ".py",
   "mimetype": "text/x-python",
   "name": "python",
   "nbconvert_exporter": "python",
   "pygments_lexer": "ipython3",
   "version": "3.7.3"
  }
 },
 "nbformat": 4,
 "nbformat_minor": 2
}
